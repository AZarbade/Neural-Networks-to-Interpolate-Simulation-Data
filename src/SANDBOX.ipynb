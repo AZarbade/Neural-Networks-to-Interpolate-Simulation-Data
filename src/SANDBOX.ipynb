{
 "cells": [
  {
   "cell_type": "code",
   "execution_count": null,
   "metadata": {},
   "outputs": [],
   "source": [
    "import torch\n",
    "import utilities\n",
    "\n",
    "device = (\"cuda\" if torch.cuda.is_available() else \"cpu\")\n",
    "# device = \"cpu\"\n",
    "\n",
    "data_main = utilities.pre_processing_base(\n",
    "    csv=\"../data/SIDI_Full.csv\",\n",
    "    device=device,\n",
    "    split=0.8,\n",
    "    target_var=\"DI\",\n",
    ")\n",
    "\n",
    "data_ft = utilities.pre_processing_ft(data_main, device)\n",
    "data_t = utilities.pre_processing_t(data_main, device)\n",
    "data_f = utilities.pre_processing_f(data_main, device)\n",
    "data_none = utilities.pre_processing_none(data_main, device)"
   ]
  }
 ],
 "metadata": {
  "kernelspec": {
   "display_name": "hvis",
   "language": "python",
   "name": "python3"
  },
  "language_info": {
   "codemirror_mode": {
    "name": "ipython",
    "version": 3
   },
   "file_extension": ".py",
   "mimetype": "text/x-python",
   "name": "python",
   "nbconvert_exporter": "python",
   "pygments_lexer": "ipython3",
   "version": "3.10.0"
  },
  "orig_nbformat": 4
 },
 "nbformat": 4,
 "nbformat_minor": 2
}
