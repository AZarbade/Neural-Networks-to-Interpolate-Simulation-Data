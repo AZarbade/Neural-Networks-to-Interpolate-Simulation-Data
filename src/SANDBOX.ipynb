{
 "cells": [
  {
   "cell_type": "code",
   "execution_count": 1,
   "metadata": {},
   "outputs": [
    {
     "data": {
      "text/plain": [
       "(array([1.  , 1.81, 0.  , 0.  ]), 0.80348)"
      ]
     },
     "execution_count": 1,
     "metadata": {},
     "output_type": "execute_result"
    }
   ],
   "source": [
    "import torch\n",
    "from utilities import preprocess_base\n",
    "\n",
    "device = (\"cuda\" if torch.cuda.is_available() else \"cpu\")\n",
    "\n",
    "data = preprocess_base(\n",
    "    csv=\"../data/SIDI_Full.csv\",\n",
    "    target_var=\"DI\",\n",
    "    split=0.8,\n",
    "    device=device\n",
    ")\n",
    "\n",
    "data[102]"
   ]
  },
  {
   "cell_type": "code",
   "execution_count": 2,
   "metadata": {},
   "outputs": [
    {
     "data": {
      "text/plain": [
       "(tensor([0.0000, 0.7838, 0.5100, 0.0000], device='cuda:0', dtype=torch.float64),\n",
       " tensor(1.4506, device='cuda:0', dtype=torch.float64))"
      ]
     },
     "execution_count": 2,
     "metadata": {},
     "output_type": "execute_result"
    }
   ],
   "source": [
    "from utilities import pre_processing_ft\n",
    "\n",
    "data_ft = pre_processing_ft(data, device)\n",
    "\n",
    "data_ft[102]"
   ]
  },
  {
   "cell_type": "code",
   "execution_count": 3,
   "metadata": {},
   "outputs": [
    {
     "data": {
      "text/plain": [
       "(tensor([1.0000, 1.8100, 0.0000, 0.0000], device='cuda:0', dtype=torch.float64),\n",
       " tensor(0.8035, device='cuda:0', dtype=torch.float64))"
      ]
     },
     "execution_count": 3,
     "metadata": {},
     "output_type": "execute_result"
    }
   ],
   "source": [
    "from utilities import pre_processing_none\n",
    "\n",
    "data_none = pre_processing_none(data, device)\n",
    "\n",
    "data_none[102]"
   ]
  },
  {
   "cell_type": "code",
   "execution_count": 5,
   "metadata": {},
   "outputs": [
    {
     "data": {
      "text/plain": [
       "(tensor([0.0000, 0.7838, 0.5100, 0.0000], device='cuda:0', dtype=torch.float64),\n",
       " tensor(0.8035, device='cuda:0', dtype=torch.float64))"
      ]
     },
     "execution_count": 5,
     "metadata": {},
     "output_type": "execute_result"
    }
   ],
   "source": [
    "from utilities import pre_processing_f\n",
    "\n",
    "data_f = pre_processing_f(data, device)\n",
    "\n",
    "data_f[102]"
   ]
  },
  {
   "cell_type": "code",
   "execution_count": 4,
   "metadata": {},
   "outputs": [
    {
     "data": {
      "text/plain": [
       "(tensor([1.0000, 1.8100, 0.0000, 0.0000], device='cuda:0', dtype=torch.float64),\n",
       " tensor(1.4506, device='cuda:0', dtype=torch.float64))"
      ]
     },
     "execution_count": 4,
     "metadata": {},
     "output_type": "execute_result"
    }
   ],
   "source": [
    "from utilities import pre_processing_t\n",
    "\n",
    "data_t = pre_processing_t(data, device)\n",
    "\n",
    "data_t[102]"
   ]
  }
 ],
 "metadata": {
  "kernelspec": {
   "display_name": "hvis",
   "language": "python",
   "name": "python3"
  },
  "language_info": {
   "codemirror_mode": {
    "name": "ipython",
    "version": 3
   },
   "file_extension": ".py",
   "mimetype": "text/x-python",
   "name": "python",
   "nbconvert_exporter": "python",
   "pygments_lexer": "ipython3",
   "version": "3.10.0"
  },
  "orig_nbformat": 4
 },
 "nbformat": 4,
 "nbformat_minor": 2
}
